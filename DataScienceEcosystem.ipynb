{
 "cells": [
  {
   "cell_type": "markdown",
   "id": "a8cb4d45-655c-4e67-8bb6-f6be3cf55475",
   "metadata": {},
   "source": [
    "# Data Science Tools and Ecosystem"
   ]
  },
  {
   "cell_type": "markdown",
   "id": "bf65aec6-fe26-4760-9762-d5d16a661812",
   "metadata": {},
   "source": [
    "## Author\n",
    "Victoria"
   ]
  },
  {
   "cell_type": "markdown",
   "id": "e5a8da18-0e39-44f2-bff6-6a69778350b9",
   "metadata": {},
   "source": [
    "In this notebook, Data Science Tools and Ecosystem are summarized."
   ]
  },
  {
   "cell_type": "markdown",
   "id": "bdc3b91c-5bab-49fd-a24a-c72dde3a3262",
   "metadata": {},
   "source": [
    "__Objectives:__\n",
    "- List popular languages for Data Science\n",
    "- List commonly used libraries\n",
    "- List three development environment open source tools used in data science\n",
    "- Examples of arithmetic expressions"
   ]
  },
  {
   "cell_type": "markdown",
   "id": "b6d7f5ca-5226-43be-8f3d-0f8c939f3d3a",
   "metadata": {},
   "source": [
    "Some of the popular languages that Data Scientists use are:\n",
    "1. Python\n",
    "2. R\n",
    "3. SQL"
   ]
  },
  {
   "cell_type": "markdown",
   "id": "a7651e4d-986e-4e1a-8bf9-a35c22b9ed4c",
   "metadata": {},
   "source": [
    "Some of the commonly used libraries used by Data Scientists include:\n",
    "1. Pandas\n",
    "2. NumPy\n",
    "3. Matplotlib\n",
    "4. Seaborn"
   ]
  },
  {
   "cell_type": "markdown",
   "id": "cdc74c77-3799-4b06-9db3-7bcdbf9985f4",
   "metadata": {},
   "source": [
    "|Data Science Tools|\n",
    "| -------------| \n",
    "|Jupyter Notebooks|\n",
    "|R Studio|\n",
    "|MongoDB|\n"
   ]
  },
  {
   "cell_type": "markdown",
   "id": "ad003162-6562-46a5-8ede-2c20c386729f",
   "metadata": {},
   "source": [
    "### Below are a few examples of evaluating arithmetic expressions in Python"
   ]
  },
  {
   "cell_type": "code",
   "execution_count": 1,
   "id": "d2b9a5f8-c419-4070-903f-6d413ea039b9",
   "metadata": {
    "tags": []
   },
   "outputs": [
    {
     "data": {
      "text/plain": [
       "17"
      ]
     },
     "execution_count": 1,
     "metadata": {},
     "output_type": "execute_result"
    }
   ],
   "source": [
    "#.  This a simple arithmetic expression to mutiply then add integers\n",
    "(3*4)+5"
   ]
  },
  {
   "cell_type": "code",
   "execution_count": 2,
   "id": "9c7266fc-a538-41d3-b3e5-30e6c3928254",
   "metadata": {
    "tags": []
   },
   "outputs": [
    {
     "data": {
      "text/plain": [
       "3.3333333333333335"
      ]
     },
     "execution_count": 2,
     "metadata": {},
     "output_type": "execute_result"
    }
   ],
   "source": [
    "#This will convert 200 minutes to hours by diving by 60\n",
    "200/60"
   ]
  }
 ],
 "metadata": {
  "kernelspec": {
   "display_name": "Python",
   "language": "python",
   "name": "conda-env-python-py"
  },
  "language_info": {
   "codemirror_mode": {
    "name": "ipython",
    "version": 3
   },
   "file_extension": ".py",
   "mimetype": "text/x-python",
   "name": "python",
   "nbconvert_exporter": "python",
   "pygments_lexer": "ipython3",
   "version": "3.7.12"
  }
 },
 "nbformat": 4,
 "nbformat_minor": 5
}
